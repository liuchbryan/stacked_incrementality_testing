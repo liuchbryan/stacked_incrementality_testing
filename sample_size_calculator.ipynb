{
 "cells": [
  {
   "cell_type": "code",
   "execution_count": 1,
   "metadata": {
    "collapsed": true
   },
   "outputs": [],
   "source": [
    "import numpy as np\n",
    "\n",
    "from scipy.stats import norm, t"
   ]
  },
  {
   "cell_type": "markdown",
   "metadata": {},
   "source": [
    "## Generalised Welch-Satterthwaite Equation\n",
    "\n",
    "The following function implementes the generalised Welch-Satterthwaite equation with more than two $s^2$ abd $n$, as specified in Satterthwaite (1946) and Welch (1947):\n",
    "\n",
    "$$\\nu = \\frac{\\left(\\sum_{g \\in G}\\psi_g \\right)^2}{\\sum_{g \\in G}\\frac{\\psi^2_g}{n_g - 1}},$$\n",
    "where $\\psi_g = \\frac{s^2_g}{n_g}$.\n",
    "\n",
    "It takes the following arguments:\n",
    "- `s_squared`: $[s_g^2]_{g\\in G}$, the sample variance of a group.\n",
    "- `n`: $[n_g]_{g\\in G}$, the size of a group.\n",
    "\n",
    "...and returns value of $\\nu$."
   ]
  },
  {
   "cell_type": "code",
   "execution_count": 2,
   "metadata": {
    "collapsed": true
   },
   "outputs": [],
   "source": [
    "def generalised_welch_satterthwaite(s_squared, n):\n",
    "    \"\"\"\n",
    "    Calculate the generalised Welch-Satterthwaite equation with\n",
    "    more than two s^2 and n, specified in Satterthwaite (1946) \n",
    "    and Welch (1947).\n",
    "    :param s_squared: 1-d array-like containing all s^2_i values\n",
    "    :param n: 1-d array-like containing all n values (the index\n",
    "              should match with that in s_squared)\n",
    "    :return: The result of the generalised Welch-Satterthwaite\n",
    "             equation (aka the approximate degrees of freedom\n",
    "             for the generalised Welch's t-statistic)\n",
    "    \"\"\"\n",
    "    \n",
    "    numerator_acc = 0\n",
    "    denominator = 0\n",
    "    \n",
    "    for i in range(0, len(s_squared), 1):\n",
    "        numerator_acc += s_squared[i] / n[i]\n",
    "        denominator += np.power(s_squared[i], 2) / \\\n",
    "                       ((n[i] - 1) * n[i] * n[i])\n",
    "            \n",
    "    return np.power(numerator_acc, 2) / denominator"
   ]
  },
  {
   "cell_type": "code",
   "execution_count": 3,
   "metadata": {
    "collapsed": false
   },
   "outputs": [
    {
     "data": {
      "text/plain": [
       "156.53434650455929"
      ]
     },
     "execution_count": 3,
     "metadata": {},
     "output_type": "execute_result"
    }
   ],
   "source": [
    "generalised_welch_satterthwaite([0.25, 0.1, 0.2, 2], [100, 100, 100, 100])"
   ]
  },
  {
   "cell_type": "markdown",
   "metadata": {},
   "source": [
    "## Minimum Sample Size - Equal Size in All Groups\n",
    "\n",
    "The following function gives a solution of $n_{\\min}$ to the following inequality:\n",
    "$$n_{\\min} > \\left(\\frac{t_{\\nu, 1-\\alpha} - t_{\\nu, 1-\\pi_{\\min}}}{\\theta}\\right)^2 \\sum_{g \\in G} s_g^2.$$\n",
    "\n",
    "It takes the following arguments:\n",
    "- `s_squared`: $[s_g^2]_{g\\in G}$, the sample variance of a group.\n",
    "- `theta`: $\\theta$, the intended effect size one wanted to detect.\n",
    "- `significance_level`: $\\alpha$, the significance level (usually 0.05 or 5%).\n",
    "- `min_power`: $\\pi_{\\min}$, the minimum power (usually 0.8 or 80%)\n",
    "\n",
    "... and returns $n_{\\min}$, the minimum sample size required of a group, assuming the size of all groups are equal."
   ]
  },
  {
   "cell_type": "code",
   "execution_count": 4,
   "metadata": {
    "collapsed": false
   },
   "outputs": [],
   "source": [
    "def norm_quantile_diff(significance_level, min_power):\n",
    "    return np.power((norm.ppf(1 - significance_level) - norm.ppf(1 - min_power)), 2)\n",
    "\n",
    "def t_quantile_diff(significance_level, min_power, nu):\n",
    "    return np.power((t.ppf(1 - significance_level, nu) - t.ppf(1 - min_power, nu)), 2)\n",
    "    \n",
    "def get_min_sample_sizes(rhs_func, **kwargs):\n",
    "    \"\"\"\n",
    "    A minimum sample size estimation procedure which iteratively evaluates\n",
    "    n_min, nu (and hence the quantile difference) \n",
    "    \"\"\"\n",
    "    s_squared = kwargs['s_squared']\n",
    "    \n",
    "    rhs_normal_quantile = rhs_func(**kwargs)\n",
    "    n_min = np.ceil(rhs_normal_quantile)\n",
    "    nu = generalised_welch_satterthwaite(\n",
    "        s_squared, np.repeat(n_min, np.array(s_squared).shape[0]))\n",
    "    rhs_t_quantile = rhs_func(**kwargs, nu=nu)\n",
    "\n",
    "    while (n_min <= rhs_t_quantile):\n",
    "        n_min = np.ceil(rhs_t_quantile)\n",
    "        nu = generalised_welch_satterthwaite(\n",
    "            s_squared, np.repeat(n_min, np.array(s_squared).shape[0]))\n",
    "        rhs_t_quantile = rhs_func(**kwargs, nu=nu)\n",
    "                                             \n",
    "    return n_min\n",
    "\n",
    "def get_min_sample_sizes_equal(s_squared, theta, significance_level=0.05, min_power=0.8):\n",
    "    def rhs_value_equal(s_squared, theta, \n",
    "                        significance_level, min_power, nu=None):\n",
    "        if nu is None:\n",
    "            quantile_diff = norm_quantile_diff(significance_level, min_power)\n",
    "        else:\n",
    "            quantile_diff = t_quantile_diff(significance_level, min_power, nu)\n",
    "        \n",
    "        return quantile_diff * np.sum(s_squared) / np.power(theta, 2)\n",
    "    \n",
    "    return(\n",
    "        get_min_sample_sizes(\n",
    "            rhs_value_equal, s_squared=s_squared, theta=theta,\n",
    "            significance_level=significance_level, min_power=min_power))"
   ]
  },
  {
   "cell_type": "code",
   "execution_count": 5,
   "metadata": {
    "collapsed": false
   },
   "outputs": [
    {
     "data": {
      "text/plain": [
       "247303.0"
      ]
     },
     "execution_count": 5,
     "metadata": {},
     "output_type": "execute_result"
    }
   ],
   "source": [
    "get_min_sample_sizes_equal(\n",
    "    s_squared=[0.25, 0.25, 0.25, 0.25], theta=0.005, \n",
    "    significance_level=0.05, min_power=0.8)"
   ]
  },
  {
   "cell_type": "markdown",
   "metadata": {},
   "source": [
    "## Minimum Sample Size - Fixed Sample Size Ratio Between Groups\n",
    "\n",
    "The following function gives a solution of $n_{\\min}$ to the following inequality:\n",
    "$$n_{\\min} > \\left(\\frac{t_{\\nu, 1-\\alpha} - t_{\\nu, 1-\\pi_{\\min}}}{\\theta}\\right)^2 \\sum_{g \\in G} \\frac{k_1}{k_g} s_g^2.$$\n",
    "\n",
    "Here $n_{\\min}$ refers to the number of samples required by the **first** group. To calculate the number of samples required in other groups, multiply $n_{\\min}$ by $\\frac{k_g}{k_1}$.\n",
    "\n",
    "It takes the following arguments:\n",
    "- `s_squared`: $[s_g^2]_{g\\in G}$, the sample variance of a group.\n",
    "- `ratio`: $[k_g]_{g\\in G}$, the ratio between groups.\n",
    "- `theta`: $\\theta$, the intended effect size one wanted to detect.\n",
    "- `significance_level`: $\\alpha$, the significance level (usually 0.05 or 5%).\n",
    "- `min_power`: $\\pi_{\\min}$, the minimum power (usually 0.8 or 80%)"
   ]
  },
  {
   "cell_type": "code",
   "execution_count": 6,
   "metadata": {
    "collapsed": false
   },
   "outputs": [],
   "source": [
    "def get_min_sample_sizes_ratioed(s_squared, ratio, theta,\n",
    "                                 significance_level=0.05, min_power=0.8):\n",
    "    \n",
    "    def rhs_value_ratioed(s_squared, ratio, theta, \n",
    "                          significance_level, min_power, nu=None):\n",
    "        if nu is None:\n",
    "            quantile_diff = norm_quantile_diff(significance_level, min_power)\n",
    "        else:\n",
    "            quantile_diff = t_quantile_diff(significance_level, min_power, nu)\n",
    "        \n",
    "        return(\n",
    "            quantile_diff * \n",
    "            np.sum(np.array(s_squared) * ratio[0] / np.array(ratio)) / \\\n",
    "            np.power(theta, 2))\n",
    "    \n",
    "    assert (len(ratio) > 0), \"Please provide the ratio of at least one group\"\n",
    "            \n",
    "    return(\n",
    "        get_min_sample_sizes(\n",
    "            rhs_value_ratioed, s_squared=s_squared, ratio=ratio, theta=theta,\n",
    "            significance_level=significance_level, min_power=min_power))"
   ]
  },
  {
   "cell_type": "code",
   "execution_count": 7,
   "metadata": {
    "collapsed": false
   },
   "outputs": [
    {
     "data": {
      "text/plain": [
       "148382.0"
      ]
     },
     "execution_count": 7,
     "metadata": {},
     "output_type": "execute_result"
    }
   ],
   "source": [
    "get_min_sample_sizes_ratioed(\n",
    "    s_squared=[0.25, 0.25, 0.25, 0.25], ratio=[1, 1, 5, 5], \n",
    "    theta=0.005, significance_level=0.05, min_power=0.8)"
   ]
  },
  {
   "cell_type": "code",
   "execution_count": null,
   "metadata": {
    "collapsed": true
   },
   "outputs": [],
   "source": []
  }
 ],
 "metadata": {
  "anaconda-cloud": {},
  "kernelspec": {
   "display_name": "Python [conda env:Python3]",
   "language": "python",
   "name": "conda-env-Python3-py"
  },
  "language_info": {
   "codemirror_mode": {
    "name": "ipython",
    "version": 3
   },
   "file_extension": ".py",
   "mimetype": "text/x-python",
   "name": "python",
   "nbconvert_exporter": "python",
   "pygments_lexer": "ipython3",
   "version": "3.5.4"
  }
 },
 "nbformat": 4,
 "nbformat_minor": 1
}
